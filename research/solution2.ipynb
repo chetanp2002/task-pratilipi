{
 "cells": [
  {
   "cell_type": "code",
   "execution_count": 25,
   "metadata": {},
   "outputs": [],
   "source": [
    "import pandas as pd\n",
    "import numpy as np\n",
    "from surprise import SVD, Dataset, Reader\n",
    "from sklearn.feature_extraction.text import TfidfVectorizer\n",
    "from sklearn.metrics.pairwise import linear_kernel\n",
    "from sklearn.preprocessing import MinMaxScaler\n"
   ]
  },
  {
   "cell_type": "code",
   "execution_count": null,
   "metadata": {},
   "outputs": [],
   "source": [
    "# Load datasets\n",
    "interactions = pd.read_csv('dataset/User_interaction.csv')\n",
    "meta = pd.read_csv('datasetMetadata.csv')\n"
   ]
  },
  {
   "cell_type": "code",
   "execution_count": 27,
   "metadata": {},
   "outputs": [],
   "source": [
    "# Preprocessing\n",
    "meta['category'] = meta['category_name'].fillna('General')\n",
    "meta['reading_time'] = meta['reading_time'].fillna(meta['reading_time'].median())\n"
   ]
  },
  {
   "cell_type": "code",
   "execution_count": 28,
   "metadata": {},
   "outputs": [],
   "source": [
    "# Time-based split\n",
    "interactions = interactions.sort_values('updated_at')\n",
    "train = interactions.iloc[:int(0.75*len(interactions))]\n",
    "test = interactions.iloc[int(0.75*len(interactions)):]\n"
   ]
  },
  {
   "cell_type": "code",
   "execution_count": 30,
   "metadata": {},
   "outputs": [],
   "source": [
    "# Train SVD model\n",
    "reader = Reader(rating_scale=(0, 100))\n",
    "data = Dataset.load_from_df(train[['user_id', 'pratilipi_id', 'read_percent']], reader)\n",
    "trainset = data.build_full_trainset()\n"
   ]
  },
  {
   "cell_type": "code",
   "execution_count": 31,
   "metadata": {},
   "outputs": [
    {
     "data": {
      "text/plain": [
       "<surprise.prediction_algorithms.matrix_factorization.SVD at 0x2940c95c8b0>"
      ]
     },
     "execution_count": 31,
     "metadata": {},
     "output_type": "execute_result"
    }
   ],
   "source": [
    "svd = SVD(n_factors=50, n_epochs=20)\n",
    "svd.fit(trainset)\n"
   ]
  },
  {
   "cell_type": "code",
   "execution_count": 32,
   "metadata": {},
   "outputs": [],
   "source": [
    "# Create content features\n",
    "tfidf = TfidfVectorizer()\n",
    "category_matrix = tfidf.fit_transform(meta['category_name'])\n"
   ]
  },
  {
   "cell_type": "code",
   "execution_count": 33,
   "metadata": {},
   "outputs": [],
   "source": [
    "scaler = MinMaxScaler()\n",
    "meta['norm_reading_time'] = scaler.fit_transform(meta[['reading_time']])\n"
   ]
  },
  {
   "cell_type": "code",
   "execution_count": 46,
   "metadata": {},
   "outputs": [],
   "source": [
    "class HybridRecommender:\n",
    "    def __init__(self, svd_model, tfidf_matrix, meta):\n",
    "        self.svd = svd_model\n",
    "        self.tfidf_matrix = tfidf_matrix\n",
    "        self.meta = meta\n",
    "        self.pratilipi_ids = meta['pratilipi_id'].values\n",
    "        \n",
    "    def recommend(self, user_id, top_n=5):\n",
    "        # Collaborative predictions\n",
    "        collab_scores = np.array([self.svd.predict(user_id, pid).est for pid in self.pratilipi_ids])\n",
    "        \n",
    "        # Content-based scores\n",
    "        user_history = train[train['user_id'] == user_id]['pratilipi_id']\n",
    "        content_scores = self._get_content_scores(user_history)\n",
    "        \n",
    "        # Combine scores\n",
    "        hybrid_scores = 0.7 * collab_scores + 0.3 * content_scores\n",
    "        top_indices = hybrid_scores.argsort()[-top_n:][::-1]\n",
    "        \n",
    "        return self.pratilipi_ids[top_indices]\n",
    "    \n",
    "    def _get_content_scores(self, user_history):\n",
    "        if user_history.empty:\n",
    "            return np.zeros(len(self.pratilipi_ids))\n",
    "            \n",
    "        # Get indices of user history\n",
    "        history_idx = [np.where(self.pratilipi_ids == pid)[0][0] for pid in user_history]\n",
    "        \n",
    "        # Calculate similarity\n",
    "        sim_scores = self.tfidf_matrix[history_idx].mean(axis=0)\n",
    "        return sim_scores + self.meta['norm_reading_time'].values\n"
   ]
  },
  {
   "cell_type": "code",
   "execution_count": 47,
   "metadata": {},
   "outputs": [],
   "source": [
    "# Initialize recommender\n",
    "recommender = HybridRecommender(svd, category_matrix, meta)"
   ]
  },
  {
   "cell_type": "code",
   "execution_count": 48,
   "metadata": {},
   "outputs": [
    {
     "data": {
      "text/plain": [
       "array([1377786224233118, 1377786225918211, 1377786225918489,\n",
       "       1377786225918759, 1377786225918845], dtype=int64)"
      ]
     },
     "execution_count": 48,
     "metadata": {},
     "output_type": "execute_result"
    }
   ],
   "source": [
    "recommender.recommend(1)"
   ]
  },
  {
   "cell_type": "code",
   "execution_count": 38,
   "metadata": {},
   "outputs": [
    {
     "name": "stdout",
     "output_type": "stream",
     "text": [
      "Popular recommendations: [1300795932448456, 291449283974856, 291449283974856, 940266639496904, 1090208461919944]\n"
     ]
    }
   ],
   "source": [
    "def cold_start_recommendations(top_n=5):\n",
    "    # Use content-based popularity (reading time + category diversity)\n",
    "    popular = meta.sort_values(['reading_time', 'category'], ascending=[False, True])\n",
    "    return popular['pratilipi_id'].head(top_n).tolist()\n",
    "\n",
    "print(\"Popular recommendations:\", cold_start_recommendations())"
   ]
  },
  {
   "cell_type": "code",
   "execution_count": 50,
   "metadata": {},
   "outputs": [
    {
     "ename": "KeyboardInterrupt",
     "evalue": "",
     "output_type": "error",
     "traceback": [
      "\u001b[1;31m---------------------------------------------------------------------------\u001b[0m",
      "\u001b[1;31mKeyboardInterrupt\u001b[0m                         Traceback (most recent call last)",
      "Cell \u001b[1;32mIn[50], line 39\u001b[0m\n\u001b[0;32m     36\u001b[0m     \u001b[38;5;28;01mreturn\u001b[39;00m meta\u001b[38;5;241m.\u001b[39msort_values(\u001b[38;5;124m'\u001b[39m\u001b[38;5;124mreading_time\u001b[39m\u001b[38;5;124m'\u001b[39m, ascending\u001b[38;5;241m=\u001b[39m\u001b[38;5;28;01mFalse\u001b[39;00m)[\u001b[38;5;124m'\u001b[39m\u001b[38;5;124mpratilipi_id\u001b[39m\u001b[38;5;124m'\u001b[39m]\u001b[38;5;241m.\u001b[39mhead(top_n)\u001b[38;5;241m.\u001b[39mtolist()\n\u001b[0;32m     38\u001b[0m \u001b[38;5;66;03m# Generate recommendations for all test users\u001b[39;00m\n\u001b[1;32m---> 39\u001b[0m test_recommendations \u001b[38;5;241m=\u001b[39m \u001b[43mgenerate_all_test_recommendations\u001b[49m\u001b[43m(\u001b[49m\u001b[43mtest\u001b[49m\u001b[43m)\u001b[49m\n\u001b[0;32m     41\u001b[0m \u001b[38;5;66;03m# Save to CSV\u001b[39;00m\n\u001b[0;32m     42\u001b[0m test_recommendations\u001b[38;5;241m.\u001b[39mto_csv(\u001b[38;5;124m'\u001b[39m\u001b[38;5;124mtest_recommendations.csv\u001b[39m\u001b[38;5;124m'\u001b[39m, index\u001b[38;5;241m=\u001b[39m\u001b[38;5;28;01mFalse\u001b[39;00m)\n",
      "Cell \u001b[1;32mIn[50], line 14\u001b[0m, in \u001b[0;36mgenerate_all_test_recommendations\u001b[1;34m(test_data, top_n)\u001b[0m\n\u001b[0;32m     11\u001b[0m \u001b[38;5;28;01mfor\u001b[39;00m user_id \u001b[38;5;129;01min\u001b[39;00m test_users:\n\u001b[0;32m     12\u001b[0m     \u001b[38;5;28;01mtry\u001b[39;00m:\n\u001b[0;32m     13\u001b[0m         \u001b[38;5;66;03m# Get recommendations\u001b[39;00m\n\u001b[1;32m---> 14\u001b[0m         recommendations \u001b[38;5;241m=\u001b[39m \u001b[43mrecommender\u001b[49m\u001b[38;5;241;43m.\u001b[39;49m\u001b[43mrecommend\u001b[49m\u001b[43m(\u001b[49m\u001b[43muser_id\u001b[49m\u001b[43m,\u001b[49m\u001b[43m \u001b[49m\u001b[43mtop_n\u001b[49m\u001b[43m)\u001b[49m\n\u001b[0;32m     16\u001b[0m         \u001b[38;5;66;03m# Handle new users with cold start\u001b[39;00m\n\u001b[0;32m     17\u001b[0m         \u001b[38;5;28;01mif\u001b[39;00m \u001b[38;5;28mlen\u001b[39m(recommendations) \u001b[38;5;241m==\u001b[39m \u001b[38;5;241m0\u001b[39m:\n",
      "Cell \u001b[1;32mIn[46], line 10\u001b[0m, in \u001b[0;36mHybridRecommender.recommend\u001b[1;34m(self, user_id, top_n)\u001b[0m\n\u001b[0;32m      8\u001b[0m \u001b[38;5;28;01mdef\u001b[39;00m\u001b[38;5;250m \u001b[39m\u001b[38;5;21mrecommend\u001b[39m(\u001b[38;5;28mself\u001b[39m, user_id, top_n\u001b[38;5;241m=\u001b[39m\u001b[38;5;241m5\u001b[39m):\n\u001b[0;32m      9\u001b[0m     \u001b[38;5;66;03m# Collaborative predictions\u001b[39;00m\n\u001b[1;32m---> 10\u001b[0m     collab_scores \u001b[38;5;241m=\u001b[39m np\u001b[38;5;241m.\u001b[39marray([\u001b[38;5;28mself\u001b[39m\u001b[38;5;241m.\u001b[39msvd\u001b[38;5;241m.\u001b[39mpredict(user_id, pid)\u001b[38;5;241m.\u001b[39mest \u001b[38;5;28;01mfor\u001b[39;00m pid \u001b[38;5;129;01min\u001b[39;00m \u001b[38;5;28mself\u001b[39m\u001b[38;5;241m.\u001b[39mpratilipi_ids])\n\u001b[0;32m     12\u001b[0m     \u001b[38;5;66;03m# Content-based scores\u001b[39;00m\n\u001b[0;32m     13\u001b[0m     user_history \u001b[38;5;241m=\u001b[39m train[train[\u001b[38;5;124m'\u001b[39m\u001b[38;5;124muser_id\u001b[39m\u001b[38;5;124m'\u001b[39m] \u001b[38;5;241m==\u001b[39m user_id][\u001b[38;5;124m'\u001b[39m\u001b[38;5;124mpratilipi_id\u001b[39m\u001b[38;5;124m'\u001b[39m]\n",
      "Cell \u001b[1;32mIn[46], line 10\u001b[0m, in \u001b[0;36m<listcomp>\u001b[1;34m(.0)\u001b[0m\n\u001b[0;32m      8\u001b[0m \u001b[38;5;28;01mdef\u001b[39;00m\u001b[38;5;250m \u001b[39m\u001b[38;5;21mrecommend\u001b[39m(\u001b[38;5;28mself\u001b[39m, user_id, top_n\u001b[38;5;241m=\u001b[39m\u001b[38;5;241m5\u001b[39m):\n\u001b[0;32m      9\u001b[0m     \u001b[38;5;66;03m# Collaborative predictions\u001b[39;00m\n\u001b[1;32m---> 10\u001b[0m     collab_scores \u001b[38;5;241m=\u001b[39m np\u001b[38;5;241m.\u001b[39marray([\u001b[38;5;28;43mself\u001b[39;49m\u001b[38;5;241;43m.\u001b[39;49m\u001b[43msvd\u001b[49m\u001b[38;5;241;43m.\u001b[39;49m\u001b[43mpredict\u001b[49m\u001b[43m(\u001b[49m\u001b[43muser_id\u001b[49m\u001b[43m,\u001b[49m\u001b[43m \u001b[49m\u001b[43mpid\u001b[49m\u001b[43m)\u001b[49m\u001b[38;5;241m.\u001b[39mest \u001b[38;5;28;01mfor\u001b[39;00m pid \u001b[38;5;129;01min\u001b[39;00m \u001b[38;5;28mself\u001b[39m\u001b[38;5;241m.\u001b[39mpratilipi_ids])\n\u001b[0;32m     12\u001b[0m     \u001b[38;5;66;03m# Content-based scores\u001b[39;00m\n\u001b[0;32m     13\u001b[0m     user_history \u001b[38;5;241m=\u001b[39m train[train[\u001b[38;5;124m'\u001b[39m\u001b[38;5;124muser_id\u001b[39m\u001b[38;5;124m'\u001b[39m] \u001b[38;5;241m==\u001b[39m user_id][\u001b[38;5;124m'\u001b[39m\u001b[38;5;124mpratilipi_id\u001b[39m\u001b[38;5;124m'\u001b[39m]\n",
      "File \u001b[1;32md:\\Data Science\\Task\\Pratilipi\\venv\\lib\\site-packages\\surprise\\prediction_algorithms\\algo_base.py:102\u001b[0m, in \u001b[0;36mAlgoBase.predict\u001b[1;34m(self, uid, iid, r_ui, clip, verbose)\u001b[0m\n\u001b[0;32m    100\u001b[0m details \u001b[38;5;241m=\u001b[39m {}\n\u001b[0;32m    101\u001b[0m \u001b[38;5;28;01mtry\u001b[39;00m:\n\u001b[1;32m--> 102\u001b[0m     est \u001b[38;5;241m=\u001b[39m \u001b[38;5;28;43mself\u001b[39;49m\u001b[38;5;241;43m.\u001b[39;49m\u001b[43mestimate\u001b[49m\u001b[43m(\u001b[49m\u001b[43miuid\u001b[49m\u001b[43m,\u001b[49m\u001b[43m \u001b[49m\u001b[43miiid\u001b[49m\u001b[43m)\u001b[49m\n\u001b[0;32m    104\u001b[0m     \u001b[38;5;66;03m# If the details dict was also returned\u001b[39;00m\n\u001b[0;32m    105\u001b[0m     \u001b[38;5;28;01mif\u001b[39;00m \u001b[38;5;28misinstance\u001b[39m(est, \u001b[38;5;28mtuple\u001b[39m):\n",
      "File \u001b[1;32md:\\Data Science\\Task\\Pratilipi\\venv\\lib\\site-packages\\surprise\\prediction_algorithms\\matrix_factorization.pyx:269\u001b[0m, in \u001b[0;36msurprise.prediction_algorithms.matrix_factorization.SVD.estimate\u001b[1;34m()\u001b[0m\n",
      "File \u001b[1;32m<__array_function__ internals>:180\u001b[0m, in \u001b[0;36mdot\u001b[1;34m(*args, **kwargs)\u001b[0m\n",
      "\u001b[1;31mKeyboardInterrupt\u001b[0m: "
     ]
    }
   ],
   "source": [
    "def generate_all_test_recommendations(test_data, top_n=5):\n",
    "    \"\"\"\n",
    "    Generate recommendations for all users in test data\n",
    "    Returns DataFrame with columns: [user_id, recommended_pratilipis]\n",
    "    \"\"\"\n",
    "    results = []\n",
    "    \n",
    "    # Get unique test users\n",
    "    test_users = test_data['user_id'].unique()\n",
    "    \n",
    "    for user_id in test_users:\n",
    "        try:\n",
    "            # Get recommendations\n",
    "            recommendations = recommender.recommend(user_id, top_n)\n",
    "            \n",
    "            # Handle new users with cold start\n",
    "            if len(recommendations) == 0:\n",
    "                recommendations = get_cold_start_recommendations(top_n)\n",
    "                \n",
    "            results.append({\n",
    "                'user_id': user_id,\n",
    "                'recommended_pratilipis': recommendations\n",
    "            })\n",
    "            \n",
    "        except Exception as e:\n",
    "            print(f\"Error processing user {user_id}: {str(e)}\")\n",
    "            results.append({\n",
    "                'user_id': user_id,\n",
    "                'recommended_pratilipis': []\n",
    "            })\n",
    "    \n",
    "    return pd.DataFrame(results)\n",
    "\n",
    "def get_cold_start_recommendations(top_n=5):\n",
    "    \"\"\"Fallback recommendations for new users\"\"\"\n",
    "    return meta.sort_values('reading_time', ascending=False)['pratilipi_id'].head(top_n).tolist()\n",
    "\n",
    "# Generate recommendations for all test users\n",
    "test_recommendations = generate_all_test_recommendations(test)\n",
    "\n",
    "# Save to CSV\n",
    "test_recommendations.to_csv('test_recommendations.csv', index=False)\n",
    "\n",
    "# Display sample results\n",
    "print(\"Sample recommendations:\")\n",
    "print(test_recommendations.head())"
   ]
  },
  {
   "cell_type": "code",
   "execution_count": null,
   "metadata": {},
   "outputs": [],
   "source": []
  }
 ],
 "metadata": {
  "kernelspec": {
   "display_name": "Python 3",
   "language": "python",
   "name": "python3"
  },
  "language_info": {
   "codemirror_mode": {
    "name": "ipython",
    "version": 3
   },
   "file_extension": ".py",
   "mimetype": "text/x-python",
   "name": "python",
   "nbconvert_exporter": "python",
   "pygments_lexer": "ipython3",
   "version": "3.10.0"
  }
 },
 "nbformat": 4,
 "nbformat_minor": 2
}
