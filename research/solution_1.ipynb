{
 "cells": [
  {
   "cell_type": "code",
   "execution_count": 2,
   "metadata": {},
   "outputs": [
    {
     "name": "stderr",
     "output_type": "stream",
     "text": [
      "d:\\Data Science\\Task\\Pratilipi\\venv\\lib\\site-packages\\lightfm\\_lightfm_fast.py:9: UserWarning: LightFM was compiled without OpenMP support. Only a single thread will be used.\n",
      "  warnings.warn(\n"
     ]
    }
   ],
   "source": [
    "import pandas as pd\n",
    "import numpy as np\n",
    "from lightfm import LightFM\n",
    "from lightfm.data import Dataset\n",
    "from lightfm.evaluation import precision_at_k\n",
    "import datetime"
   ]
  },
  {
   "cell_type": "code",
   "execution_count": null,
   "metadata": {},
   "outputs": [],
   "source": [
    "# Load Data ---\n",
    "# Load user interactions and meta data\n",
    "interactions = pd.read_csv(\"dataset/User_interaction.csv\")\n",
    "meta_data = pd.read_csv(\"dataset/Metadata.csv\")\n"
   ]
  },
  {
   "cell_type": "code",
   "execution_count": 4,
   "metadata": {},
   "outputs": [],
   "source": [
    "# Convert date columns to datetime\n",
    "interactions['updated_at'] = pd.to_datetime(interactions['updated_at'])\n",
    "meta_data['updated_at'] = pd.to_datetime(meta_data['updated_at'])\n",
    "meta_data['published_at'] = pd.to_datetime(meta_data['published_at'])\n"
   ]
  },
  {
   "cell_type": "code",
   "execution_count": null,
   "metadata": {},
   "outputs": [],
   "source": [
    "# Filter Positive Interactions ---\n",
    "# Use only interactions with read_percentage >= 50\n",
    "threshold = 50\n",
    "interactions = interactions[interactions['read_percent'] >= threshold].copy()\n"
   ]
  },
  {
   "cell_type": "code",
   "execution_count": 6,
   "metadata": {},
   "outputs": [],
   "source": [
    "# Sort interactions by time (for time-based splitting)\n",
    "interactions = interactions.sort_values(\"updated_at\").reset_index(drop=True)\n"
   ]
  },
  {
   "cell_type": "code",
   "execution_count": 7,
   "metadata": {},
   "outputs": [],
   "source": [
    "# Split into 75% train and 25% test (by row order)\n",
    "train_cutoff = int(0.75 * len(interactions))\n",
    "train_interactions = interactions.iloc[:train_cutoff]\n",
    "test_interactions = interactions.iloc[train_cutoff:]\n"
   ]
  },
  {
   "cell_type": "code",
   "execution_count": null,
   "metadata": {},
   "outputs": [],
   "source": [
    "# Prepare LightFM Dataset\n",
    "dataset = Dataset()\n"
   ]
  },
  {
   "cell_type": "code",
   "execution_count": 9,
   "metadata": {},
   "outputs": [],
   "source": [
    "# Get unique users and items from the interaction data\n",
    "users = interactions['user_id'].unique()\n",
    "# items = meta_data['pratilipi_id'].unique()\n"
   ]
  },
  {
   "cell_type": "code",
   "execution_count": 10,
   "metadata": {},
   "outputs": [],
   "source": [
    "all_items = np.union1d(interactions['pratilipi_id'].unique(), meta_data['pratilipi_id'].unique())\n",
    "\n"
   ]
  },
  {
   "cell_type": "code",
   "execution_count": 11,
   "metadata": {},
   "outputs": [],
   "source": [
    "dataset.fit(users=users, items=all_items)"
   ]
  },
  {
   "cell_type": "code",
   "execution_count": 12,
   "metadata": {},
   "outputs": [],
   "source": [
    "# Build training interactions list and matrix\n",
    "train_list = [(row['user_id'], row['pratilipi_id']) for _, row in train_interactions.iterrows()]\n",
    "(train_matrix, _) = dataset.build_interactions(train_list)\n"
   ]
  },
  {
   "cell_type": "code",
   "execution_count": 13,
   "metadata": {},
   "outputs": [],
   "source": [
    "# Build test interactions list and matrix\n",
    "test_list = [(row['user_id'], row['pratilipi_id']) for _, row in test_interactions.iterrows()]\n",
    "(test_matrix, _) = dataset.build_interactions(test_list)\n"
   ]
  },
  {
   "cell_type": "code",
   "execution_count": null,
   "metadata": {},
   "outputs": [],
   "source": [
    "# Build Item Features \n",
    "# We combine multiple columns: author_id, category_name, and reading_time (binned)\n",
    "def create_item_features(row):\n",
    "    features = []\n",
    "    features.append(f\"author:{row['author_id']}\")\n",
    "    features.append(f\"category:{row['category_name']}\")\n",
    "    # Convert reading_time from seconds to minutes and bin it\n",
    "    minutes = int(row['reading_time'] // 60)\n",
    "    features.append(f\"reading_time:{minutes}\")\n",
    "    return features\n",
    "\n",
    "meta_data['features'] = meta_data.apply(create_item_features, axis=1)\n"
   ]
  },
  {
   "cell_type": "code",
   "execution_count": 15,
   "metadata": {},
   "outputs": [],
   "source": [
    "# Create a list of (item_id, [features]) tuples\n",
    "item_features_list = [(row['pratilipi_id'], row['features']) for _, row in meta_data.iterrows()]\n"
   ]
  },
  {
   "cell_type": "code",
   "execution_count": 16,
   "metadata": {},
   "outputs": [],
   "source": [
    "# Let LightFM know all possible item features\n",
    "all_item_features = set()\n",
    "for _, feats in item_features_list:\n",
    "    all_item_features.update(feats)\n",
    "dataset.fit_partial(items=all_items, item_features=list(all_item_features))\n"
   ]
  },
  {
   "cell_type": "code",
   "execution_count": 17,
   "metadata": {},
   "outputs": [],
   "source": [
    "# Build the item features matrix\n",
    "item_features_matrix = dataset.build_item_features(item_features_list)\n"
   ]
  },
  {
   "cell_type": "code",
   "execution_count": null,
   "metadata": {},
   "outputs": [
    {
     "data": {
      "text/plain": [
       "<lightfm.lightfm.LightFM at 0x29b1f0ef8b0>"
      ]
     },
     "execution_count": 18,
     "metadata": {},
     "output_type": "execute_result"
    }
   ],
   "source": [
    "\n",
    "#  Train the LightFM Model ---\n",
    "# Using fewer epochs and one thread to reduce load\n",
    "model = LightFM(loss='logistic', random_state=42)\n",
    "model.fit(train_matrix, item_features=item_features_matrix, epochs=5, num_threads=1)\n"
   ]
  },
  {
   "cell_type": "code",
   "execution_count": null,
   "metadata": {},
   "outputs": [],
   "source": [
    "# Evaluate the Model\n",
    "# train_precision = precision_at_k(model, train_matrix, item_features=item_features_matrix, k=5).mean()\n",
    "# test_precision = precision_at_k(model, test_matrix, item_features=item_features_matrix, k=5).mean()\n",
    "# print(\"Train Precision@5:\", train_precision)\n",
    "# print(\"Test Precision@5:\", test_precision)\n"
   ]
  },
  {
   "cell_type": "code",
   "execution_count": null,
   "metadata": {},
   "outputs": [],
   "source": [
    "# Recommendation Function \n",
    "# Get mapping dictionaries from LightFM\n",
    "user_id_mapping, item_id_mapping = dataset.mapping()[0], dataset.mapping()[1]\n",
    "# Create a reverse mapping for items: internal id -> external pratilipi_id\n",
    "rev_item_mapping = {v: k for k, v in item_id_mapping.items()}\n"
   ]
  },
  {
   "cell_type": "code",
   "execution_count": 21,
   "metadata": {},
   "outputs": [],
   "source": [
    "def recommend(user_ext_id, model, dataset, item_features_matrix, num_rec=5):\n",
    "    # Convert external user_id to internal index\n",
    "    internal_user_id = user_id_mapping[user_ext_id]\n",
    "    n_items = len(item_id_mapping)\n",
    "    # Predict scores for all items for this user\n",
    "    scores = model.predict(internal_user_id, np.arange(n_items), item_features=item_features_matrix)\n",
    "    # Get top indices sorted by score\n",
    "    top_indices = np.argsort(-scores)[:num_rec]\n",
    "    recommended_items = [rev_item_mapping[i] for i in top_indices]\n",
    "    return recommended_items\n"
   ]
  },
  {
   "cell_type": "code",
   "execution_count": null,
   "metadata": {},
   "outputs": [
    {
     "name": "stdout",
     "output_type": "stream",
     "text": [
      "Recommendations for user 5506791974854999: [5506791979223815, 5506791970045925, 5506791968261668, 5506791991878999, 5506791973354582]\n"
     ]
    }
   ],
   "source": [
    "# Get Recommendations for a Sample User ---\n",
    "sample_user = interactions['user_id'].iloc[568945]\n",
    "recommendations = recommend(sample_user, model, dataset, item_features_matrix, num_rec=5)\n",
    "print(f\"Recommendations for user {sample_user}:\", recommendations)"
   ]
  },
  {
   "cell_type": "code",
   "execution_count": null,
   "metadata": {},
   "outputs": [],
   "source": [
    "# --- Generate Recommendations for All Test Users ---\n",
    "\n",
    "# Get the unique user IDs from the test interactions\n",
    "test_users = test_interactions['user_id'].unique()\n",
    "\n",
    "# Dictionary to store recommendations for each test user\n",
    "all_recommendations = {}\n",
    "\n",
    "# Loop through each user in the test set\n",
    "for user in test_users:\n",
    "    # Call your recommend function to get top 5 recommendations for the user\n",
    "    recs = recommend(user, model, dataset, item_features_matrix, num_rec=5)\n",
    "    if recs is not None:\n",
    "        all_recommendations[user] = recs\n",
    "\n",
    "# Print out recommendations for each test user\n",
    "for user, recs in all_recommendations.items():\n",
    "    print(f\"Recommendations for user {user}: {recs}\")\n"
   ]
  },
  {
   "cell_type": "code",
   "execution_count": 23,
   "metadata": {},
   "outputs": [],
   "source": [
    "# import pickle\n",
    "\n",
    "# # 1. Pickle the trained LightFM model\n",
    "# with open(\"lightfm_model.pkl\", \"wb\") as f:\n",
    "#     pickle.dump(model, f)\n",
    "# print(\"LightFM model saved as lightfm_model.pkl\")\n",
    "\n",
    "# # 2. Pickle the dataset mapping (user and item mapping)\n",
    "# mapping = dataset.mapping()  # This returns a tuple: (user_mapping, item_mapping)\n",
    "# with open(\"lightfm_mapping.pkl\", \"wb\") as f:\n",
    "#     pickle.dump(mapping, f)\n",
    "# print(\"Dataset mapping saved as lightfm_mapping.pkl\")\n",
    "\n",
    "# # 3. Pickle the item features matrix (optional but recommended if expensive to compute)\n",
    "# with open(\"lightfm_item_features.pkl\", \"wb\") as f:\n",
    "#     pickle.dump(item_features_matrix, f)\n",
    "# print(\"Item features matrix saved as lightfm_item_features.pkl\")"
   ]
  },
  {
   "cell_type": "code",
   "execution_count": null,
   "metadata": {},
   "outputs": [],
   "source": []
  }
 ],
 "metadata": {
  "kernelspec": {
   "display_name": "Python 3",
   "language": "python",
   "name": "python3"
  },
  "language_info": {
   "codemirror_mode": {
    "name": "ipython",
    "version": 3
   },
   "file_extension": ".py",
   "mimetype": "text/x-python",
   "name": "python",
   "nbconvert_exporter": "python",
   "pygments_lexer": "ipython3",
   "version": "3.10.0"
  }
 },
 "nbformat": 4,
 "nbformat_minor": 2
}
